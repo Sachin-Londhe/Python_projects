{
 "cells": [
  {
   "cell_type": "markdown",
   "id": "6d9556ff",
   "metadata": {},
   "source": [
    "# Name - Sachin Dattatray Londhe"
   ]
  },
  {
   "cell_type": "markdown",
   "id": "a0aaa734",
   "metadata": {},
   "source": [
    "# Roll Number - 64"
   ]
  },
  {
   "cell_type": "markdown",
   "id": "f32109d5",
   "metadata": {},
   "source": [
    "# Assignment number 1"
   ]
  },
  {
   "cell_type": "raw",
   "id": "430a7f44",
   "metadata": {},
   "source": [
    " 1 . What are the key features of Python?\n",
    " \n",
    " Ans -1) Easy to code\n",
    "      2) Free and Open Source\n",
    "      3) Object-Oriented Language\n",
    "      4) High-Level Language and portable language\n",
    "      5) Interpreted Language - there is no need to compile python code this makes it easier to debug          our code. The source code of python is converted into an immediate form called bytecode.\n",
    "      6) Dynamically Typed Language - No need to predefine datatype\n",
    "      "
   ]
  },
  {
   "cell_type": "raw",
   "id": "01f90bac",
   "metadata": {},
   "source": [
    "2 . What are the Data Types in Python?\n",
    "\n",
    "Ans -Text Type:\tstr\n",
    "     Numeric Types:\tint, float, complex\n",
    "     Sequence Types: list, tuple, range\n",
    "     Mapping Type:\tdict\n",
    "     Set Types:\tset, frozenset\n",
    "     Boolean Type:\tbool\n",
    "     "
   ]
  },
  {
   "cell_type": "raw",
   "id": "2aabc34d",
   "metadata": {},
   "source": [
    "3 . What are local variables and global variables in Python?\n",
    "\n",
    "Ans - Local variables - Local variables are the variables that declared inside the function and                               have scope within the function.\n",
    "      \n",
    "      Globle variables- Global variables can be used throughout the program, and its scope is in the                         entire program. We can use global variables inside or outside the function.\n",
    "                        A variable declared outside the function is the global variable by default.                           Python provides the global keyword to use global variable inside function.\n",
    "                        "
   ]
  },
  {
   "cell_type": "raw",
   "id": "354dc33f",
   "metadata": {},
   "source": [
    "4 . How do you write comments in python? And Why Comments are important?\n",
    "\n",
    "Ans - Comments starts with a #. We can use triple quotes (\"\"\" \"\"\") for multiline comments.\n",
    "      Comments can be used to explain Python code,to make code more readable.\n",
    "        "
   ]
  },
  {
   "cell_type": "raw",
   "id": "c1a2c512",
   "metadata": {},
   "source": [
    "5 . How to comment on multiple lines in python?\n",
    "\n",
    "Ans - Since Python will ignore string literals that are not assigned to a variable, \n",
    "      we can use triple quotes (\"\"\" \"\"\") in code, and place multiline comment inside it.\n",
    "      "
   ]
  },
  {
   "cell_type": "raw",
   "id": "957f92da",
   "metadata": {},
   "source": [
    "6 . What do you mean by Python literals?\n",
    "\n",
    "Ans -Literals in Python is defined as the raw data assigned to variables while programming. \n",
    "     We mainly have five types of literals which includes string literals, numeric literals, \n",
    "     boolean literals, literal collections and a special literal None.\n",
    "     "
   ]
  },
  {
   "cell_type": "raw",
   "id": "4e5d8ac3",
   "metadata": {},
   "source": [
    "7 . What are different ways to assign value to variables?\n",
    "\n",
    "Ans - 1)Direct Initialisation Method\n",
    "      2)We can use conditional operator\n",
    "      2)We can also use one liner if else operator\n",
    "      "
   ]
  },
  {
   "cell_type": "raw",
   "id": "a4298583",
   "metadata": {},
   "source": [
    "8 . What are the Escape Characters in python?\n",
    "\n",
    "Ans - Escape character is a backslash \\ followed by the character.\n",
    "      \\'\tSingle Quote\t\n",
    "      \\\\\tBackslash\t==> This will insert one \\ (backslash).\n",
    "      \\n\tNew Line\t\n",
    "      \\r\tCarriage Return\t\n",
    "      \\t\tTab\t\n",
    "      \\b\tBackspace\n",
    "     "
   ]
  },
  {
   "cell_type": "raw",
   "id": "579a3a39",
   "metadata": {},
   "source": [
    "9 . Which are the different ways to perform string formatting? Explain with example.\n",
    "\n",
    "Ans - 1) Formatting string using % Operator\n",
    "      2) Formatting string using format() method\n",
    "      3) Formatting String using F-strings\n"
   ]
  },
  {
   "cell_type": "code",
   "execution_count": 1,
   "id": "c429db7e",
   "metadata": {},
   "outputs": [
    {
     "name": "stdout",
     "output_type": "stream",
     "text": [
      "Enter string :rethryrwr\n",
      "r\n",
      "e\n",
      "t\n",
      "h\n",
      "r\n",
      "y\n",
      "r\n",
      "w\n",
      "r\n"
     ]
    }
   ],
   "source": [
    "# 10 . Print every character of a string entered by the user in a new line using a loop :  \n",
    "\n",
    "string = str(input(\"Enter string :\"))\n",
    "for i in string:\n",
    "    print(i)\n"
   ]
  },
  {
   "cell_type": "code",
   "execution_count": 2,
   "id": "bcfc28f3",
   "metadata": {},
   "outputs": [
    {
     "data": {
      "text/plain": [
       "16"
      ]
     },
     "execution_count": 2,
     "metadata": {},
     "output_type": "execute_result"
    }
   ],
   "source": [
    "# 11 .Write a program to find the length of the string \"machine learning\" with len function.\n",
    "\n",
    "string = \"machine learning\"\n",
    "len(string)"
   ]
  },
  {
   "cell_type": "code",
   "execution_count": 3,
   "id": "1d203f35",
   "metadata": {},
   "outputs": [
    {
     "name": "stdout",
     "output_type": "stream",
     "text": [
      "16\n"
     ]
    }
   ],
   "source": [
    "# 11. Write a program to find the length of the string \"machine learning\" without using len function.\n",
    "\n",
    "string = \"machine learning\"\n",
    "count = 0\n",
    "for i in string:\n",
    "    count = count + 1\n",
    "    \n",
    "print(count)"
   ]
  },
  {
   "cell_type": "code",
   "execution_count": 4,
   "id": "159d6709",
   "metadata": {},
   "outputs": [
    {
     "name": "stdout",
     "output_type": "stream",
     "text": [
      "true\n"
     ]
    }
   ],
   "source": [
    "# 12. Write a program to check if the word 'orange' is present in the \"This is orange juice\".\n",
    "\n",
    "string = \"This is orange juice\"\n",
    "if \"orange\" in string:\n",
    "    print(\"true\")\n",
    "else:\n",
    "    print(\"false\")"
   ]
  },
  {
   "cell_type": "code",
   "execution_count": 9,
   "id": "5386e813",
   "metadata": {},
   "outputs": [
    {
     "data": {
      "text/plain": [
       "True"
      ]
     },
     "execution_count": 9,
     "metadata": {},
     "output_type": "execute_result"
    }
   ],
   "source": [
    "string = \"orange is sweet\"\n",
    "\"orange\" in string"
   ]
  },
  {
   "cell_type": "code",
   "execution_count": 5,
   "id": "c4d89043",
   "metadata": {},
   "outputs": [
    {
     "name": "stdout",
     "output_type": "stream",
     "text": [
      "Enter string :er\n",
      "er\n",
      "Count of vowels in string  : 1\n",
      "Count of consonants in string  : 1\n",
      "Count of white_spaces in string  : 0\n",
      "Count of digits in string  : 0\n"
     ]
    }
   ],
   "source": [
    "\"\"\" 13 . Write a program to find the number of vowels, consonants, digits, and white\n",
    "         space characters in a string.\"\"\"\n",
    "\n",
    "string = (input(\"Enter string :\"))\n",
    "\n",
    "vowels = 0\n",
    "consonants = 0\n",
    "space = 0\n",
    "Digits = 0\n",
    "\n",
    "string = string.lower()\n",
    "print(string)\n",
    "\n",
    "for i in string:\n",
    "    #vowels = [a,e,i,o,u]\n",
    "    if (i == \"a\" or i == \"e\" or i == \"i\" or i == \"o\" or i == \"u\"):\n",
    "        vowels = vowels + 1\n",
    "    elif i == \" \":\n",
    "        space += 1\n",
    "    elif i.isnumeric():\n",
    "        Digits = Digits +1\n",
    "    else:\n",
    "        consonants = consonants + 1\n",
    "        \n",
    "print(\"Count of vowels in string  :\" ,vowels)\n",
    "print(\"Count of consonants in string  :\",consonants)\n",
    "print(\"Count of white_spaces in string  :\",space)\n",
    "print(\"Count of digits in string  :\",Digits)\n"
   ]
  },
  {
   "cell_type": "code",
   "execution_count": 1,
   "id": "aab93280",
   "metadata": {},
   "outputs": [
    {
     "name": "stdout",
     "output_type": "stream",
     "text": [
      "Type your string :WE23dfsgg__;'\n",
      "Count of uppercase letters in string  : 2\n",
      "Count of lowercase letters in string  : 5\n",
      "Count of numeric_value letters in string  : 2\n",
      "Count of special_character letters in string  : 4\n"
     ]
    }
   ],
   "source": [
    "''' 14 . Write a Python program to count Uppercase, Lowercase, special character,\n",
    "and numeric values in a given string.'''\n",
    "\n",
    "string = str(input(\"Type your string :\"))\n",
    "uppercase = 0\n",
    "Lowercase = 0\n",
    "special_character = 0\n",
    "numeric_value = 0\n",
    "\n",
    "for i in string:\n",
    "    if i.isupper():\n",
    "        uppercase += 1\n",
    "        \n",
    "    elif i.islower():\n",
    "        Lowercase += 1\n",
    "    \n",
    "    elif i.isnumeric() == True :\n",
    "        numeric_value += 1 \n",
    "        \n",
    "    else:\n",
    "        special_character += 1 \n",
    "        \n",
    "print(\"Count of uppercase letters in string  :\",uppercase)\n",
    "print(\"Count of lowercase letters in string  :\",Lowercase)\n",
    "print(\"Count of numeric_value letters in string  :\",numeric_value)\n",
    "print(\"Count of special_character letters in string  :\",special_character)\n"
   ]
  },
  {
   "cell_type": "code",
   "execution_count": 1,
   "id": "4765c2ef",
   "metadata": {},
   "outputs": [
    {
     "name": "stdout",
     "output_type": "stream",
     "text": [
      "eoaeaooa\n"
     ]
    }
   ],
   "source": [
    "''' 15. Write a program to make a new string with all the consonants deleted from the\n",
    "string \"Hello, have a good day\".'''\n",
    "\n",
    "string = \"Hello, have a good day\"\n",
    "string1 = ''\n",
    "\n",
    "for i in string:\n",
    "    if i in \"aeiouAEIOU\":\n",
    "        string1 = string1 + i\n",
    "        \n",
    "print(string1)\n"
   ]
  },
  {
   "cell_type": "code",
   "execution_count": 2,
   "id": "ccd5654b",
   "metadata": {},
   "outputs": [
    {
     "name": "stdout",
     "output_type": "stream",
     "text": [
      "Enter string : waegsrdthyt\n",
      "nth index is :3\n",
      "waesrdthyt\n"
     ]
    }
   ],
   "source": [
    "\"\"\" 16 . Write a Python program to remove the nth index character from a non-empty\n",
    "string.\"\"\"\n",
    "\n",
    "string = str(input(\"Enter string : \"))\n",
    "nth_index = int(input(\"nth index is :\"))\n",
    "string1 = \"\"\n",
    "\n",
    "for i in range(0,len(string)):\n",
    "    if i != nth_index:\n",
    "        string1 = string1 + string[i]\n",
    "print(string1)\n",
    "        \n",
    "        "
   ]
  },
  {
   "cell_type": "code",
   "execution_count": 23,
   "id": "9ad4c805",
   "metadata": {},
   "outputs": [
    {
     "name": "stdout",
     "output_type": "stream",
     "text": [
      "Enter string : sachin is a bad boy\n"
     ]
    },
    {
     "data": {
      "text/plain": [
       "'yachin is a bad boa'"
      ]
     },
     "execution_count": 23,
     "metadata": {},
     "output_type": "execute_result"
    }
   ],
   "source": [
    "\"\"\" 17. Write a Python program to change a given string to a new string where the\n",
    "first and last characters have been exchanged.\"\"\"\n",
    "\n",
    "string = str(input(\"Enter string : \"))\n",
    "string1 = string[-1] + string[1:-1] + string[1]\n",
    "string1\n"
   ]
  },
  {
   "cell_type": "code",
   "execution_count": 5,
   "id": "cdf7cb72",
   "metadata": {},
   "outputs": [
    {
     "name": "stdout",
     "output_type": "stream",
     "text": [
      "['hello', 'have', 'a', 'good', 'day', 'good', 'have']\n",
      "count of word hello is: 1\n",
      "count of word have is: 2\n",
      "count of word good is: 2\n",
      "count of word day is: 1\n"
     ]
    }
   ],
   "source": [
    "''' 18. Write a Python program to count the occurrences of each word in a given\n",
    "sentence.'''\n",
    "\n",
    "s = \"hello have a good day good have \"\n",
    "s1 = s.split()\n",
    "print(s1)\n",
    "s2 = \"\"\n",
    "for i in s1:\n",
    "    if i in s2:\n",
    "        continue\n",
    "    elif i != \" \":\n",
    "        a = s1.count(i)\n",
    "        print(f\"count of word {i} is: {a}\")\n",
    "        s2 = s2 + i \n",
    " "
   ]
  },
  {
   "cell_type": "code",
   "execution_count": 33,
   "id": "00f659e3",
   "metadata": {},
   "outputs": [
    {
     "name": "stdout",
     "output_type": "stream",
     "text": [
      "Enter string :dssahhny hbfv sdfhbdn\n",
      "enter character :h\n",
      "4\n"
     ]
    }
   ],
   "source": [
    "\"\"\" 19. How do you count the occurrence of a given character in a string?\"\"\"\n",
    "\n",
    "string = str(input(\"Enter string :\"))\n",
    "char = str(input(\"enter character :\"))\n",
    "\n",
    "a = string.count(char)\n",
    "print(a)\n",
    "    "
   ]
  },
  {
   "cell_type": "code",
   "execution_count": 7,
   "id": "ddb3e108",
   "metadata": {},
   "outputs": [
    {
     "name": "stdout",
     "output_type": "stream",
     "text": [
      "enter string :rea rgawd r4tf\n",
      "rgawd r4tf\n"
     ]
    }
   ],
   "source": [
    "\"\"\" 20. Write a program to find last 10 characters of a string? \"\"\"\n",
    "s= str(input(\"enter string :\"))\n",
    "\n",
    "# print(string[-10:])\n",
    "\n",
    "str1 = ''\n",
    "\n",
    "for i in range(len(s)-1,len(s)-11,-1):\n",
    "    str1 = s[i] + str1\n",
    "print(str1)"
   ]
  },
  {
   "cell_type": "code",
   "execution_count": 35,
   "id": "b7e7b416",
   "metadata": {},
   "outputs": [
    {
     "name": "stdout",
     "output_type": "stream",
     "text": [
      "enter string :Asdfgg\n",
      "count of uppercase letters in first 4 characters : 1\n"
     ]
    }
   ],
   "source": [
    "''' 21. WAP to convert a given string to all uppercase if it contains at least 2\n",
    "uppercase characters in the first 4 characters.'''\n",
    "\n",
    "string = str(input(\"enter string :\"))\n",
    "count = 0\n",
    "for i in range(0,4):\n",
    "    if string[i].isupper() :\n",
    "        count += 1\n",
    "        \n",
    "print(\"count of uppercase letters in first 4 characters :\",count)\n",
    "if count >= 2:\n",
    "    string1 = string.upper()\n",
    "    print(string1)"
   ]
  },
  {
   "cell_type": "code",
   "execution_count": null,
   "id": "a9927c48",
   "metadata": {},
   "outputs": [],
   "source": [
    "\"\"\"22. Write a Python program to remove a newline in Python.\"\"\"\n",
    "\n",
    "string = \"Python is very easy to understand,\\nand it is dynamically typed language\"\n",
    "print(string)\n",
    "string1 = string.replace(\"\\n\",\"\")\n",
    "print(string1)"
   ]
  },
  {
   "cell_type": "code",
   "execution_count": null,
   "id": "4e41cfa0",
   "metadata": {},
   "outputs": [],
   "source": [
    "\"\"\" 23. Write a Python program to swap commas and dots in a string\n",
    "○ Sample string: \"32.054,23\"\n",
    "○ Expected Output: \"32,054.23\"\"\"\n",
    "\n",
    "string = input(\"enter string : \")\n",
    "s1 = string.replace(\",\",\"=\")\n",
    "s2 = s1.replace(\".\",\",\")\n",
    "s3 = s2.replace(\"=\",\".\")\n",
    "\n",
    "print(s3)"
   ]
  },
  {
   "cell_type": "code",
   "execution_count": 10,
   "id": "20270bea",
   "metadata": {},
   "outputs": [
    {
     "name": "stdout",
     "output_type": "stream",
     "text": [
      "jdfvcj,irs\n",
      "j\n"
     ]
    }
   ],
   "source": [
    "''' 24. Write a Python program to find the first repeated character in a given string'''\n",
    "# string = input(\"enter string : \")\n",
    "# str1 = \"\"\n",
    "# for char in string:\n",
    "#     if string.count(char) >= 2:\n",
    "#         str1 = str1 + char\n",
    "#         break\n",
    "# print(str1)\n",
    "\n",
    "str1 = str(input())\n",
    "for i in str1:\n",
    "    if i != \" \":\n",
    "        count1 =str1.count(i)\n",
    "        if count1 >=2:\n",
    "            print(i)\n",
    "            break"
   ]
  },
  {
   "cell_type": "code",
   "execution_count": 14,
   "id": "12b3b217",
   "metadata": {},
   "outputs": [
    {
     "name": "stdout",
     "output_type": "stream",
     "text": [
      "Enter a string : sas asa asa ss sas ass asa\n",
      "['sas', 'asa', 'asa', 'ss', 'sas', 'ass', 'asa']\n",
      "Second most repeated word : sas\n"
     ]
    }
   ],
   "source": [
    "\"\"\" 25 . Write a Python program to find the second most repeated word in a given\n",
    "string\"\"\"\n",
    "\n",
    "string = input(\"Enter a string : \")\n",
    "string1 = string.split()\n",
    "print(string1)\n",
    "a = 0\n",
    "sec = 0\n",
    "secondmax = 0\n",
    "for i in string1:\n",
    "    if string1.count(i) >= a:\n",
    "        a = string1.count(i)\n",
    "    elif string1.count(i) >= sec :\n",
    "        sec = string1.count(i)\n",
    "        \n",
    "        secondmax = i\n",
    "\n",
    "print(\"Second most repeated word :\", secondmax)"
   ]
  },
  {
   "cell_type": "code",
   "execution_count": 4,
   "id": "222a7dc2",
   "metadata": {},
   "outputs": [
    {
     "name": "stdout",
     "output_type": "stream",
     "text": [
      "enter a string : 323424357677794\n",
      "['3', '2', '3', '4', '2', '4', '3', '5', '7', '6', '7', '7', '7', '9', '4']\n",
      "Odd numbers in string : 9\n",
      "Even numbers in string : 6\n"
     ]
    }
   ],
   "source": [
    "\"\"\" 26 . Python program to Count Even and Odd numbers in a string\"\"\"\n",
    "\n",
    "string = input(\"enter a string : \")\n",
    "string1 = list(string)\n",
    "print(string1)\n",
    "\n",
    "odd = 0\n",
    "even = 0\n",
    "\n",
    "for i in string1:\n",
    "    no = int(i)\n",
    "    if no > 0:\n",
    "    \n",
    "        if no%2!=0:\n",
    "            odd = odd + 1\n",
    "        else:\n",
    "            even = even + 1\n",
    "print(\"Odd numbers in string :\",odd)\n",
    "print(\"Even numbers in string :\",even)\n"
   ]
  },
  {
   "cell_type": "code",
   "execution_count": 6,
   "id": "b6735ad6",
   "metadata": {},
   "outputs": [
    {
     "name": "stdout",
     "output_type": "stream",
     "text": [
      "enter string :5456485\n",
      "string consist only digits\n"
     ]
    }
   ],
   "source": [
    "\"\"\" 27. How do you check if a string contains only digits?\"\"\"\n",
    "\n",
    "string = input(\"enter string :\")\n",
    "for i in string:\n",
    "    if i.isdigit() != True:\n",
    "        print(\"string does not consist only digits\")\n",
    "        break\n",
    "else:\n",
    "    print(\"string consist only digits\")"
   ]
  },
  {
   "cell_type": "code",
   "execution_count": null,
   "id": "383c3b0e",
   "metadata": {},
   "outputs": [],
   "source": [
    "\"\"\" 28.How do you remove a given character/word from String? \"\"\"\n",
    "\n",
    "string = input(\"String is : \")\n",
    "character = input(\"char that user want to remove :\")\n",
    "string1 = string.replace(character,\"\")\n",
    "print(string1)"
   ]
  },
  {
   "cell_type": "code",
   "execution_count": null,
   "id": "b81f535c",
   "metadata": {},
   "outputs": [],
   "source": [
    "string = input(\"String is : \")\n",
    "character = input(\"char that user want to remove :\")\n",
    "string.translate({ord(character):None})"
   ]
  },
  {
   "cell_type": "code",
   "execution_count": null,
   "id": "959605c0",
   "metadata": {},
   "outputs": [],
   "source": [
    "\"\"\" 29. Write a Python program to remove the characters which have odd index\n",
    "values of a given string\"\"\"\n",
    "\n",
    "string = input(\"String is : \")\n",
    "string2 = \"\"\n",
    "for i in range(len(string)):\n",
    "        if i%2==0:\n",
    "            string2 += string[i]\n",
    "print(string2)"
   ]
  },
  {
   "cell_type": "code",
   "execution_count": null,
   "id": "9356f1fc",
   "metadata": {},
   "outputs": [],
   "source": [
    "\"\"\" 30  . Write a Python function to reverses a string if its length is a multiple of 5\"\"\"\n",
    "\n",
    "string = input(\"String is : \")\n",
    "if (len(string)%5 == 0):\n",
    "    print(string[::-1])\n",
    "else:\n",
    "    print(\"can't print\")\n"
   ]
  },
  {
   "cell_type": "code",
   "execution_count": 10,
   "id": "5a549eb3",
   "metadata": {},
   "outputs": [
    {
     "name": "stdout",
     "output_type": "stream",
     "text": [
      "1000.00%\n"
     ]
    }
   ],
   "source": [
    "\"\"\" 31. Write a Python program to format a number with a percentage(0.05 >> 5%)\"\"\"\n",
    "\n",
    "no = 10\n",
    "\n",
    "percentage = \"{:.2%}\".format(no)\n",
    "print(percentage)"
   ]
  },
  {
   "cell_type": "code",
   "execution_count": 11,
   "id": "76a77f61",
   "metadata": {},
   "outputs": [
    {
     "name": "stdout",
     "output_type": "stream",
     "text": [
      "string is :ewq bv rdafv\n"
     ]
    },
    {
     "data": {
      "text/plain": [
       "'rdafv bv ewq'"
      ]
     },
     "execution_count": 11,
     "metadata": {},
     "output_type": "execute_result"
    }
   ],
   "source": [
    "\"\"\" 32. Write a Python program to reverse words in a string\"\"\"\n",
    "string = input(\"string is :\")\n",
    "string1 = string.split() \n",
    "string1.reverse()\n",
    "s2 =\" \".join(string1)\n",
    "s2"
   ]
  },
  {
   "cell_type": "code",
   "execution_count": 14,
   "id": "e1264062",
   "metadata": {},
   "outputs": [
    {
     "name": "stdout",
     "output_type": "stream",
     "text": [
      "string :sfd rrhz fz\n",
      "dfs zhrr zf\n"
     ]
    }
   ],
   "source": [
    "str1 = str(input(\"string :\")).split()\n",
    "str2 = []\n",
    "for i in str1:\n",
    "    a= i[::-1]\n",
    "    str2.append(a)\n",
    "str3 = \" \".join(str2)\n",
    "print(str3)"
   ]
  },
  {
   "cell_type": "code",
   "execution_count": 15,
   "id": "71f7600d",
   "metadata": {},
   "outputs": [
    {
     "name": "stdout",
     "output_type": "stream",
     "text": [
      "string is :sdzvdz dzgsf\n",
      "dzgsf sdzvdz\n"
     ]
    }
   ],
   "source": [
    "string = input(\"string is :\")\n",
    "s1 = string.split()\n",
    "s2 = s1[::-1]\n",
    "s3 = \" \".join(s2)\n",
    "# for i in string:\n",
    "#     if i != s2:\n",
    "#         s2 = i + s2\n",
    "print(s3)"
   ]
  },
  {
   "cell_type": "code",
   "execution_count": 16,
   "id": "d5438f3d",
   "metadata": {},
   "outputs": [
    {
     "name": "stdout",
     "output_type": "stream",
     "text": [
      "string is :adfsvfb gv ngh \n",
      "ADFSVFB GV NGH \n"
     ]
    }
   ],
   "source": [
    "\"\"\" 33. Write a Python program to swap cases of a given string\"\"\"\n",
    "s1 = input(\"string is :\")\n",
    "s2 = s1.swapcase()\n",
    "print(s2)"
   ]
  },
  {
   "cell_type": "code",
   "execution_count": null,
   "id": "1d3d315b",
   "metadata": {},
   "outputs": [],
   "source": [
    "\"\"\" 34. Write a Python program to remove spaces from a given string\"\"\"\n",
    "s1 = input(\"string is :\")\n",
    "s2 = s1.replace(\" \",'')\n",
    "s2"
   ]
  },
  {
   "cell_type": "code",
   "execution_count": null,
   "id": "d9d38ab2",
   "metadata": {},
   "outputs": [],
   "source": [
    "\"\"\" 35. Write a Python program to remove duplicate characters of a given string\"\"\"\n",
    "\n",
    "string = input(\"String is : \")\n",
    "s2 = \"\"\n",
    "\n",
    "for i in string:\n",
    "    if i  not in s2:\n",
    "        s2 = s2 + i\n",
    "        \n",
    "print(s2)\n",
    "        "
   ]
  },
  {
   "cell_type": "code",
   "execution_count": null,
   "id": "61e69ae0",
   "metadata": {},
   "outputs": [],
   "source": [
    "\"\"\" 36. Write a Python Program to find the area of a circle\"\"\"\n",
    "\n",
    "radius = float(input(\"Radius is : \"))\n",
    "area = radius**2*3.14\n",
    "\n",
    "print(area)"
   ]
  },
  {
   "cell_type": "code",
   "execution_count": 17,
   "id": "6d24f0ce",
   "metadata": {},
   "outputs": [
    {
     "name": "stdout",
     "output_type": "stream",
     "text": [
      "enter number :20\n",
      "2870\n"
     ]
    }
   ],
   "source": [
    "\"\"\" 37.Python Program to find Sum of squares of first n natural numbers\"\"\"\n",
    "\n",
    "no = int(input(\"enter number :\"))\n",
    "count = 0\n",
    "for i in range(1,no+1):\n",
    "    count = count + i**2\n",
    "print(count)"
   ]
  },
  {
   "cell_type": "code",
   "execution_count": null,
   "id": "373908bd",
   "metadata": {},
   "outputs": [],
   "source": [
    "\"\"\" 38. Python Program to find cube sum of first n natural numbers\"\"\"\n",
    "\n",
    "no = int(input(\"enter number :\"))\n",
    "count = 0\n",
    "for i in range(1,no+1):\n",
    "    count = count + i**3\n",
    "    \n",
    "print(count)"
   ]
  },
  {
   "cell_type": "code",
   "execution_count": null,
   "id": "cbb96f03",
   "metadata": {},
   "outputs": [],
   "source": [
    "\"\"\" 39. Python Program to find simple interest and compound interest\"\"\"\n",
    "p = int(input(\"enter the principal amount: \")) \n",
    "i = int(input(\"enter the rate of interest: \")) \n",
    "y = int(input(\"enter the number years: \")) \n",
    "si = (p*y*i)/100 \n",
    "ci = (p*(1+(i/y))**y)-p \n",
    "print(f'simple ineterst on the given sum is {si}') \n",
    "print(f'compound ineterst on the given sum is {ci}') "
   ]
  },
  {
   "cell_type": "raw",
   "id": "00d1b914",
   "metadata": {},
   "source": [
    " # 40. Python program to check whether a number is Prime or no. \n",
    "\n",
    "num = int (input(\"enter the number: \")) \n",
    "if num > 1: \n",
    "    for i in range(2, int(num/2)+1): \n",
    "        if (num % i) == 0: \n",
    "            print(num, \"is not a prime number\") \n",
    "            break \n",
    "    else: \n",
    "        print(num, \"is a prime number\") \n",
    "else: \n",
    "    print(num, \"is not a prime number\") "
   ]
  }
 ],
 "metadata": {
  "kernelspec": {
   "display_name": "Python 3 (ipykernel)",
   "language": "python",
   "name": "python3"
  },
  "language_info": {
   "codemirror_mode": {
    "name": "ipython",
    "version": 3
   },
   "file_extension": ".py",
   "mimetype": "text/x-python",
   "name": "python",
   "nbconvert_exporter": "python",
   "pygments_lexer": "ipython3",
   "version": "3.9.12"
  }
 },
 "nbformat": 4,
 "nbformat_minor": 5
}
