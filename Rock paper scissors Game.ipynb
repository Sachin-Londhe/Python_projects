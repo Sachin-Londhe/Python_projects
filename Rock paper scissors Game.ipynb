{
 "cells": [
  {
   "cell_type": "code",
   "execution_count": 9,
   "id": "6f6d3997",
   "metadata": {},
   "outputs": [
    {
     "name": "stdout",
     "output_type": "stream",
     "text": [
      "What do you choose? (1 for 'Rock') (2 for 'Paper') (3 for 'scissors') : 3\n",
      "User chose : \n",
      "    _______\n",
      "---'   ____)____\n",
      "          ______)\n",
      "       __________)\n",
      "      (____)\n",
      "---.__(___)\n",
      "\n",
      "Computer chose \n",
      "    _______\n",
      "---'   ____)____\n",
      "          ______)\n",
      "          _______)\n",
      "         _______)\n",
      "---.__________)\n",
      "\n",
      "Scissors cuts paper! You win! ✨\n"
     ]
    }
   ],
   "source": [
    "import random\n",
    "rock = '''\n",
    "    _______\n",
    "---'   ____)\n",
    "      (_____)\n",
    "      (_____)\n",
    "      (____)\n",
    "---.__(___)\n",
    "'''\n",
    "\n",
    "paper = '''\n",
    "    _______\n",
    "---'   ____)____\n",
    "          ______)\n",
    "          _______)\n",
    "         _______)\n",
    "---.__________)\n",
    "'''\n",
    "\n",
    "scissors = '''\n",
    "    _______\n",
    "---'   ____)____\n",
    "          ______)\n",
    "       __________)\n",
    "      (____)\n",
    "---.__(___)\n",
    "'''\n",
    "\n",
    "list1 = [rock,paper,scissors]\n",
    "\n",
    "user_choice = int(input(\"What do you choose? (1 for 'Rock') (2 for 'Paper') (3 for 'scissors') : \"))\n",
    "if user_choice > 3:\n",
    "    print()\n",
    "    print(\"⚠️oppss you entered a invalid number\")\n",
    "    print()\n",
    "else:\n",
    "    print(\"User chose :\",list1[user_choice - 1])\n",
    "    \n",
    "    computer_choice = random.randint(1,3)\n",
    "    print(\"Computer chose\",list1[computer_choice - 1])\n",
    "    \n",
    "if user_choice == computer_choice:\n",
    "    print(\"It's a tie\")\n",
    "elif user_choice == 1:\n",
    "    if computer_choice== 3:\n",
    "        print(\"Rock smashes scissors! You win! ✨\")\n",
    "    else:\n",
    "        print(\"Paper covers rock! You lose.\")\n",
    "elif user_choice == 2:\n",
    "    if computer_choice == 1:\n",
    "        print(\"Paper covers rock! You win! ✨\")\n",
    "    else:\n",
    "        print(\"Scissors cuts paper! You lose.\")\n",
    "elif user_choice == 3:\n",
    "    if computer_choice == 2:\n",
    "        print(\"Scissors cuts paper! You win! ✨\")\n",
    "    else:\n",
    "        print(\"Rock smashes scissors! You lose.\")"
   ]
  },
  {
   "cell_type": "code",
   "execution_count": null,
   "id": "fb9b73d6",
   "metadata": {},
   "outputs": [],
   "source": []
  }
 ],
 "metadata": {
  "kernelspec": {
   "display_name": "Python 3 (ipykernel)",
   "language": "python",
   "name": "python3"
  },
  "language_info": {
   "codemirror_mode": {
    "name": "ipython",
    "version": 3
   },
   "file_extension": ".py",
   "mimetype": "text/x-python",
   "name": "python",
   "nbconvert_exporter": "python",
   "pygments_lexer": "ipython3",
   "version": "3.9.12"
  }
 },
 "nbformat": 4,
 "nbformat_minor": 5
}
